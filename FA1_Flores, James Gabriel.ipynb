{
 "cells": [
  {
   "cell_type": "code",
   "execution_count": 26,
   "metadata": {},
   "outputs": [
    {
     "name": "stdout",
     "output_type": "stream",
     "text": [
      "How many kilometers are there?10\n",
      "The distance in miles is 6.211180124223602\n"
     ]
    }
   ],
   "source": [
    "kilometer_input = float(input(\"How many kilometers are there?\"))\n",
    "miles_input = kilometer_input/1.61\n",
    "print(\"The distance in miles is\",miles_input)"
   ]
  },
  {
   "cell_type": "code",
   "execution_count": 15,
   "metadata": {},
   "outputs": [
    {
     "name": "stdout",
     "output_type": "stream",
     "text": [
      "The average time per mile is minutes and seconds\n",
      "The average speed in mph is 8.871428571428572\n"
     ]
    }
   ],
   "source": [
    "kilometer_input = float(input(\"How many kilometers are there?\"))\n",
    "miles_input = kilometer_input/1.61\n",
    "print(\"The distance in miles is\",miles_input)\n",
    "Atpm_input = 42//miles_input\n",
    "print(\"The average time per mile in minutes is\",Atpm_input)\n",
    "print(\"and the seconds are\"Atpm_input)\n",
    "sechour_input = 42/60\n",
    "mph_input = 6.21/sechour_input\n",
    "print(\"The average speed in mph is\", mph_input)"
   ]
  },
  {
   "cell_type": "code",
   "execution_count": 25,
   "metadata": {},
   "outputs": [
    {
     "name": "stdout",
     "output_type": "stream",
     "text": [
      "How many kilometers are there?10\n",
      "There are  miles in  kilometers.\n",
      "How many minutes are there?42\n",
      "How many seconds are there?42\n",
      "6.0\n"
     ]
    }
   ],
   "source": [
    "kilometer_input = float(input(\"How many kilometers are there?\"))\n",
    "miles_input = kilometer_input/1.61\n",
    "print(\"There are  miles in  kilometers.\")\n",
    "minutes_input = int(input(\"How many minutes are there?\"))\n",
    "seconds_input = int(input(\"How many seconds are there?\"))\n",
    "totalseconds = minutes_input*60\n",
    "avgtime = totalseconds//miles_input\n",
    "finalmin = avgtime//60\n",
    "finalsec = (avgtime%60)//1\n",
    "print(finalmin)"
   ]
  },
  {
   "cell_type": "code",
   "execution_count": null,
   "metadata": {},
   "outputs": [],
   "source": []
  }
 ],
 "metadata": {
  "kernelspec": {
   "display_name": "Python 3",
   "language": "python",
   "name": "python3"
  },
  "language_info": {
   "codemirror_mode": {
    "name": "ipython",
    "version": 3
   },
   "file_extension": ".py",
   "mimetype": "text/x-python",
   "name": "python",
   "nbconvert_exporter": "python",
   "pygments_lexer": "ipython3",
   "version": "3.7.0"
  }
 },
 "nbformat": 4,
 "nbformat_minor": 2
}
